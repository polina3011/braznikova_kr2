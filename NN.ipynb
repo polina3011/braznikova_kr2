{
 "cells": [
  {
   "cell_type": "code",
   "execution_count": 1,
   "id": "4446a88f",
   "metadata": {},
   "outputs": [],
   "source": [
    "# Importing the libraries\n",
    "import numpy as np\n",
    "import matplotlib.pyplot as plt\n",
    "import pandas as pd"
   ]
  },
  {
   "cell_type": "code",
   "execution_count": 2,
   "id": "7f86af94",
   "metadata": {},
   "outputs": [],
   "source": [
    "# Importing prepared dataset\n",
    "import pickle\n",
    "input = open('prep.pkl', 'rb')\n",
    "obj = pickle.load(input)\n",
    "input.close()\n",
    "X_train = obj[\"X_train\"]\n",
    "X_test = obj[\"X_test\"]\n",
    "y_train = obj[\"y_train\"]\n",
    "y_test = obj[\"y_test\"]"
   ]
  },
  {
   "cell_type": "code",
   "execution_count": 3,
   "id": "a83784cd",
   "metadata": {},
   "outputs": [],
   "source": [
    "#!pip install Tensorflow\n",
    "#!pip install Keras"
   ]
  },
  {
   "cell_type": "code",
   "execution_count": 4,
   "id": "10d5420d",
   "metadata": {},
   "outputs": [],
   "source": [
    "# Importing the Keras libraries and packages\n",
    "import keras\n",
    "from keras.models import Sequential\n",
    "from keras.layers import Dense"
   ]
  },
  {
   "cell_type": "code",
   "execution_count": 5,
   "id": "e433c17e",
   "metadata": {},
   "outputs": [],
   "source": [
    "# Initialising the ANN\n",
    "cnn = Sequential()\n",
    "\n",
    "# Adding the input layer and the first hidden layer\n",
    "cnn.add(Dense(5, activation = 'relu', input_dim = 5))\n",
    "\n",
    "# Adding the output layer\n",
    "cnn.add(Dense(3, activation = 'sigmoid'))\n",
    "\n",
    "\n",
    "# Adding the output layer\n",
    "cnn.add(Dense(1, activation = 'sigmoid'))\n",
    "\n",
    "# Compiling the ANN\n",
    "cnn.compile(optimizer = 'adam', loss = 'binary_crossentropy', metrics = ['accuracy'])"
   ]
  },
  {
   "cell_type": "code",
   "execution_count": 6,
   "id": "9b3b65bd",
   "metadata": {},
   "outputs": [],
   "source": [
    "import sys\n",
    "sys.setrecursionlimit(10000)"
   ]
  },
  {
   "cell_type": "code",
   "execution_count": 7,
   "id": "a60ac1f0",
   "metadata": {},
   "outputs": [
    {
     "name": "stdout",
     "output_type": "stream",
     "text": [
      "Epoch 1/20\n",
      "7/7 [==============================] - 1s 38ms/step - loss: 0.6987 - accuracy: 0.4545 - val_loss: 0.7063 - val_accuracy: 0.5000\n",
      "Epoch 2/20\n",
      "7/7 [==============================] - 0s 6ms/step - loss: 0.6929 - accuracy: 0.4545 - val_loss: 0.6995 - val_accuracy: 0.5000\n",
      "Epoch 3/20\n",
      "7/7 [==============================] - 0s 7ms/step - loss: 0.6874 - accuracy: 0.4727 - val_loss: 0.6923 - val_accuracy: 0.5714\n",
      "Epoch 4/20\n",
      "7/7 [==============================] - 0s 6ms/step - loss: 0.6822 - accuracy: 0.5091 - val_loss: 0.6854 - val_accuracy: 0.5714\n",
      "Epoch 5/20\n",
      "7/7 [==============================] - 0s 6ms/step - loss: 0.6771 - accuracy: 0.5273 - val_loss: 0.6785 - val_accuracy: 0.5714\n",
      "Epoch 6/20\n",
      "7/7 [==============================] - 0s 6ms/step - loss: 0.6710 - accuracy: 0.5273 - val_loss: 0.6727 - val_accuracy: 0.5714\n",
      "Epoch 7/20\n",
      "7/7 [==============================] - 0s 6ms/step - loss: 0.6663 - accuracy: 0.5455 - val_loss: 0.6669 - val_accuracy: 0.5714\n",
      "Epoch 8/20\n",
      "7/7 [==============================] - 0s 6ms/step - loss: 0.6617 - accuracy: 0.5455 - val_loss: 0.6610 - val_accuracy: 0.5714\n",
      "Epoch 9/20\n",
      "7/7 [==============================] - 0s 6ms/step - loss: 0.6568 - accuracy: 0.5455 - val_loss: 0.6556 - val_accuracy: 0.5714\n",
      "Epoch 10/20\n",
      "7/7 [==============================] - 0s 6ms/step - loss: 0.6523 - accuracy: 0.5818 - val_loss: 0.6501 - val_accuracy: 0.5714\n",
      "Epoch 11/20\n",
      "7/7 [==============================] - 0s 5ms/step - loss: 0.6479 - accuracy: 0.5818 - val_loss: 0.6447 - val_accuracy: 0.5000\n",
      "Epoch 12/20\n",
      "7/7 [==============================] - 0s 6ms/step - loss: 0.6437 - accuracy: 0.6000 - val_loss: 0.6394 - val_accuracy: 0.6429\n",
      "Epoch 13/20\n",
      "7/7 [==============================] - 0s 6ms/step - loss: 0.6391 - accuracy: 0.6727 - val_loss: 0.6346 - val_accuracy: 0.6429\n",
      "Epoch 14/20\n",
      "7/7 [==============================] - 0s 5ms/step - loss: 0.6349 - accuracy: 0.6909 - val_loss: 0.6298 - val_accuracy: 0.6429\n",
      "Epoch 15/20\n",
      "7/7 [==============================] - 0s 6ms/step - loss: 0.6309 - accuracy: 0.7091 - val_loss: 0.6249 - val_accuracy: 0.7143\n",
      "Epoch 16/20\n",
      "7/7 [==============================] - 0s 6ms/step - loss: 0.6265 - accuracy: 0.7273 - val_loss: 0.6204 - val_accuracy: 0.7143\n",
      "Epoch 17/20\n",
      "7/7 [==============================] - 0s 6ms/step - loss: 0.6224 - accuracy: 0.7636 - val_loss: 0.6159 - val_accuracy: 0.7143\n",
      "Epoch 18/20\n",
      "7/7 [==============================] - 0s 6ms/step - loss: 0.6186 - accuracy: 0.7818 - val_loss: 0.6111 - val_accuracy: 0.7857\n",
      "Epoch 19/20\n",
      "7/7 [==============================] - 0s 7ms/step - loss: 0.6145 - accuracy: 0.8000 - val_loss: 0.6065 - val_accuracy: 0.7857\n",
      "Epoch 20/20\n",
      "7/7 [==============================] - 0s 7ms/step - loss: 0.6107 - accuracy: 0.8000 - val_loss: 0.6019 - val_accuracy: 0.7857\n"
     ]
    }
   ],
   "source": [
    "# Fitting the ANN to the Training set\n",
    "history = cnn.fit(X_train, y_train, batch_size =8, epochs = 20, validation_data=(X_test, y_test))"
   ]
  },
  {
   "cell_type": "code",
   "execution_count": 8,
   "id": "96f10b50",
   "metadata": {},
   "outputs": [
    {
     "data": {
      "image/png": "[encoded data removed]",
      "text/plain": [
       "<Figure size 432x288 with 1 Axes>"
      ]
     },
     "metadata": {
      "needs_background": "light"
     },
     "output_type": "display_data"
    }
   ],
   "source": [
    "# Plotting loss & accuracy\n",
    "plt.figure()\n",
    "plt.plot(history.history['loss'])\n",
    "plt.plot(history.history['val_loss'])\n",
    "plt.title('model loss')\n",
    "plt.ylabel('loss')\n",
    "plt.xlabel('epoch')\n",
    "plt.legend(['train', 'test'], loc='best')\n",
    "plt.show()"
   ]
  },
  {
   "cell_type": "code",
   "execution_count": 15,
   "id": "8a01f8e5",
   "metadata": {},
   "outputs": [],
   "source": [
    "# Predicting the Test set results\n",
    "y_pred = cnn.predict(X_test)\n",
    "y_pred = (y_pred > 0.5)"
   ]
  },
  {
   "cell_type": "code",
   "execution_count": 16,
   "id": "cd67e177",
   "metadata": {},
   "outputs": [
    {
     "name": "stdout",
     "output_type": "stream",
     "text": [
      "[[9 1]\n",
      " [2 2]]\n"
     ]
    }
   ],
   "source": [
    "# Making the Confusion Matrix\n",
    "from sklearn.metrics import confusion_matrix\n",
    "cm = confusion_matrix(y_test, y_pred)\n",
    "print(cm)"
   ]
  },
  {
   "cell_type": "markdown",
   "id": "e09d3cfb",
   "metadata": {},
   "source": [
    "Распознано неверно 3 обьекта"
   ]
  },
  {
   "cell_type": "markdown",
   "id": "b31706a9",
   "metadata": {},
   "source": [
    "Делаю вывод, что модель логистической регрессии более качествена. Несмотря на ряд испытаний с НН - добиться лучшего результата не удалось."
   ]
  },
  {
   "cell_type": "code",
   "execution_count": null,
   "id": "8ebc4a95",
   "metadata": {},
   "outputs": [],
   "source": []
  }
 ],
 "metadata": {
  "kernelspec": {
   "display_name": "Python 3 (ipykernel)",
   "language": "python",
   "name": "python3"
  },
  "language_info": {
   "codemirror_mode": {
    "name": "ipython",
    "version": 3
   },
   "file_extension": ".py",
   "mimetype": "text/x-python",
   "name": "python",
   "nbconvert_exporter": "python",
   "pygments_lexer": "ipython3",
   "version": "3.8.12"
  }
 },
 "nbformat": 4,
 "nbformat_minor": 5
}
