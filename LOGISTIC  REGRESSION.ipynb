{
 "cells": [
  {
   "cell_type": "code",
   "execution_count": 1,
   "id": "9f5c07d8",
   "metadata": {},
   "outputs": [],
   "source": [
    "# Importing the libraries\n",
    "import numpy as np\n",
    "import matplotlib.pyplot as plt\n",
    "import pandas as pd"
   ]
  },
  {
   "cell_type": "code",
   "execution_count": 17,
   "id": "61d5095f",
   "metadata": {},
   "outputs": [
    {
     "data": {
      "text/html": [
       "<div>\n",
       "<style scoped>\n",
       "    .dataframe tbody tr th:only-of-type {\n",
       "        vertical-align: middle;\n",
       "    }\n",
       "\n",
       "    .dataframe tbody tr th {\n",
       "        vertical-align: top;\n",
       "    }\n",
       "\n",
       "    .dataframe thead th {\n",
       "        text-align: right;\n",
       "    }\n",
       "</style>\n",
       "<table border=\"1\" class=\"dataframe\">\n",
       "  <thead>\n",
       "    <tr style=\"text-align: right;\">\n",
       "      <th></th>\n",
       "      <th>Y</th>\n",
       "      <th>X3</th>\n",
       "      <th>X5</th>\n",
       "      <th>X6</th>\n",
       "      <th>X7</th>\n",
       "      <th>X8</th>\n",
       "      <th>X9</th>\n",
       "      <th>X10</th>\n",
       "      <th>X12</th>\n",
       "      <th>X13</th>\n",
       "      <th>X14</th>\n",
       "    </tr>\n",
       "  </thead>\n",
       "  <tbody>\n",
       "    <tr>\n",
       "      <th>0</th>\n",
       "      <td>0</td>\n",
       "      <td>0</td>\n",
       "      <td>0</td>\n",
       "      <td>659</td>\n",
       "      <td>0</td>\n",
       "      <td>1092.0</td>\n",
       "      <td>13884.0</td>\n",
       "      <td>0</td>\n",
       "      <td>0</td>\n",
       "      <td>0</td>\n",
       "      <td>1</td>\n",
       "    </tr>\n",
       "    <tr>\n",
       "      <th>1</th>\n",
       "      <td>0</td>\n",
       "      <td>0</td>\n",
       "      <td>1</td>\n",
       "      <td>1518</td>\n",
       "      <td>1</td>\n",
       "      <td>348.0</td>\n",
       "      <td>11700.0</td>\n",
       "      <td>0</td>\n",
       "      <td>0</td>\n",
       "      <td>1</td>\n",
       "      <td>1</td>\n",
       "    </tr>\n",
       "    <tr>\n",
       "      <th>2</th>\n",
       "      <td>0</td>\n",
       "      <td>0</td>\n",
       "      <td>0</td>\n",
       "      <td>476</td>\n",
       "      <td>2</td>\n",
       "      <td>504.0</td>\n",
       "      <td>6786.0</td>\n",
       "      <td>0</td>\n",
       "      <td>0</td>\n",
       "      <td>1</td>\n",
       "      <td>1</td>\n",
       "    </tr>\n",
       "    <tr>\n",
       "      <th>3</th>\n",
       "      <td>0</td>\n",
       "      <td>0</td>\n",
       "      <td>0</td>\n",
       "      <td>1310</td>\n",
       "      <td>3</td>\n",
       "      <td>418.0</td>\n",
       "      <td>12948.0</td>\n",
       "      <td>0</td>\n",
       "      <td>0</td>\n",
       "      <td>1</td>\n",
       "      <td>1</td>\n",
       "    </tr>\n",
       "    <tr>\n",
       "      <th>4</th>\n",
       "      <td>0</td>\n",
       "      <td>1</td>\n",
       "      <td>2</td>\n",
       "      <td>2029</td>\n",
       "      <td>4</td>\n",
       "      <td>108.0</td>\n",
       "      <td>11427.0</td>\n",
       "      <td>0</td>\n",
       "      <td>0</td>\n",
       "      <td>0</td>\n",
       "      <td>0</td>\n",
       "    </tr>\n",
       "    <tr>\n",
       "      <th>5</th>\n",
       "      <td>0</td>\n",
       "      <td>1</td>\n",
       "      <td>3</td>\n",
       "      <td>3585</td>\n",
       "      <td>5</td>\n",
       "      <td>120.0</td>\n",
       "      <td>11856.0</td>\n",
       "      <td>0</td>\n",
       "      <td>1</td>\n",
       "      <td>0</td>\n",
       "      <td>0</td>\n",
       "    </tr>\n",
       "    <tr>\n",
       "      <th>6</th>\n",
       "      <td>1</td>\n",
       "      <td>0</td>\n",
       "      <td>4</td>\n",
       "      <td>4621</td>\n",
       "      <td>6</td>\n",
       "      <td>6.0</td>\n",
       "      <td>14508.0</td>\n",
       "      <td>0</td>\n",
       "      <td>0</td>\n",
       "      <td>0</td>\n",
       "      <td>0</td>\n",
       "    </tr>\n",
       "    <tr>\n",
       "      <th>7</th>\n",
       "      <td>1</td>\n",
       "      <td>0</td>\n",
       "      <td>5</td>\n",
       "      <td>8150</td>\n",
       "      <td>7</td>\n",
       "      <td>292.0</td>\n",
       "      <td>11310.0</td>\n",
       "      <td>0</td>\n",
       "      <td>0</td>\n",
       "      <td>0</td>\n",
       "      <td>0</td>\n",
       "    </tr>\n",
       "    <tr>\n",
       "      <th>8</th>\n",
       "      <td>0</td>\n",
       "      <td>0</td>\n",
       "      <td>0</td>\n",
       "      <td>1624</td>\n",
       "      <td>8</td>\n",
       "      <td>290.0</td>\n",
       "      <td>12324.0</td>\n",
       "      <td>0</td>\n",
       "      <td>0</td>\n",
       "      <td>0</td>\n",
       "      <td>0</td>\n",
       "    </tr>\n",
       "    <tr>\n",
       "      <th>9</th>\n",
       "      <td>0</td>\n",
       "      <td>1</td>\n",
       "      <td>6</td>\n",
       "      <td>3790</td>\n",
       "      <td>9</td>\n",
       "      <td>660.0</td>\n",
       "      <td>13455.0</td>\n",
       "      <td>0</td>\n",
       "      <td>0</td>\n",
       "      <td>0</td>\n",
       "      <td>0</td>\n",
       "    </tr>\n",
       "  </tbody>\n",
       "</table>\n",
       "</div>"
      ],
      "text/plain": [
       "   Y  X3  X5    X6  X7      X8       X9  X10  X12  X13  X14\n",
       "0  0   0   0   659   0  1092.0  13884.0    0    0    0    1\n",
       "1  0   0   1  1518   1   348.0  11700.0    0    0    1    1\n",
       "2  0   0   0   476   2   504.0   6786.0    0    0    1    1\n",
       "3  0   0   0  1310   3   418.0  12948.0    0    0    1    1\n",
       "4  0   1   2  2029   4   108.0  11427.0    0    0    0    0\n",
       "5  0   1   3  3585   5   120.0  11856.0    0    1    0    0\n",
       "6  1   0   4  4621   6     6.0  14508.0    0    0    0    0\n",
       "7  1   0   5  8150   7   292.0  11310.0    0    0    0    0\n",
       "8  0   0   0  1624   8   290.0  12324.0    0    0    0    0\n",
       "9  0   1   6  3790   9   660.0  13455.0    0    0    0    0"
      ]
     },
     "execution_count": 17,
     "metadata": {},
     "output_type": "execute_result"
    }
   ],
   "source": [
    "# Importing the dataset\n",
    "df = pd.read_csv('braznikova2_prep.csv', sep=';')\n",
    "df.head(10)"
   ]
  },
  {
   "cell_type": "code",
   "execution_count": 3,
   "id": "6c457192",
   "metadata": {},
   "outputs": [],
   "source": [
    "# Removing Correlated Data\n",
    "#df = df.drop(['X5','X3'], axis='columns', inplace=False)\n",
    "#f.shape"
   ]
  },
  {
   "cell_type": "code",
   "execution_count": 4,
   "id": "86889b75",
   "metadata": {},
   "outputs": [],
   "source": [
    "# Splitting the dataset into the Training set and Test set\n",
    "X = df.iloc[:, 1:]\n",
    "y = df['Y']\n",
    "from sklearn.model_selection import train_test_split\n",
    "X_train, X_test, y_train, y_test = train_test_split(X, y, test_size=0.2, random_state=13)"
   ]
  },
  {
   "cell_type": "code",
   "execution_count": 5,
   "id": "f351a7d2",
   "metadata": {},
   "outputs": [],
   "source": [
    "# Feature Scaling\n",
    "from sklearn.preprocessing import StandardScaler\n",
    "sc_X = StandardScaler().fit(X_train)\n",
    "X_train = sc_X.transform(X_train)\n",
    "X_test = sc_X.transform(X_test)"
   ]
  },
  {
   "cell_type": "code",
   "execution_count": 6,
   "id": "c761ac6b",
   "metadata": {},
   "outputs": [
    {
     "name": "stdout",
     "output_type": "stream",
     "text": [
      "Optimization terminated successfully.\n",
      "         Current function value: 0.075376\n",
      "         Iterations 34\n",
      "                         Results: Logit\n",
      "=================================================================\n",
      "Model:              Logit            Pseudo R-squared: 0.887     \n",
      "Dependent Variable: Y                AIC:              28.2914   \n",
      "Date:               2021-12-04 13:13 BIC:              48.3647   \n",
      "No. Observations:   55               Log-Likelihood:   -4.1457   \n",
      "Df Model:           9                LL-Null:          -36.572   \n",
      "Df Residuals:       45               LLR p-value:      1.5410e-10\n",
      "Converged:          1.0000           Scale:            1.0000    \n",
      "No. Iterations:     34.0000                                      \n",
      "------------------------------------------------------------------\n",
      "         Coef.    Std.Err.     z     P>|z|     [0.025      0.975] \n",
      "------------------------------------------------------------------\n",
      "x1      -3.0509     2.4797  -1.2303  0.2186     -7.9110     1.8093\n",
      "x2       1.5377     2.2986   0.6690  0.5035     -2.9675     6.0428\n",
      "x3      21.4548    22.3480   0.9600  0.3370    -22.3465    65.2561\n",
      "x4      -1.4362     2.9742  -0.4829  0.6292     -7.2655     4.3931\n",
      "x5       3.0777     4.5969   0.6695  0.5032     -5.9320    12.0874\n",
      "x6      -1.9024     3.7587  -0.5061  0.6128     -9.2694     5.4646\n",
      "x7      20.5725  4698.5369   0.0044  0.9965  -9188.3906  9229.5356\n",
      "x8      -0.7972     1.6216  -0.4916  0.6230     -3.9754     2.3810\n",
      "x9       0.7710  3445.6737   0.0002  0.9998  -6752.6254  6754.1675\n",
      "x10     -5.5931     7.3121  -0.7649  0.4443    -19.9245     8.7383\n",
      "=================================================================\n",
      "\n"
     ]
    }
   ],
   "source": [
    "# Baseline model\n",
    "import statsmodels.api as sm\n",
    "lr = sm.Logit(y_train, X_train).fit()\n",
    "print(lr.summary2())"
   ]
  },
  {
   "cell_type": "code",
   "execution_count": 7,
   "id": "6e75d3e9",
   "metadata": {},
   "outputs": [
    {
     "name": "stdout",
     "output_type": "stream",
     "text": [
      "1\n",
      "[False False  True False False False False False False False]\n",
      "[ 3  4  1  8  6  7  2 10  9  5]\n"
     ]
    }
   ],
   "source": [
    "# Automatic Feature Selection\n",
    "from sklearn.feature_selection import RFECV\n",
    "from sklearn.linear_model import LogisticRegression\n",
    "estimator=LogisticRegression()\n",
    "selector=RFECV(estimator, step=1)\n",
    "selector=selector.fit(X_train, y_train)\n",
    "print(selector.n_features_)\n",
    "print(selector.support_)\n",
    "print(selector.ranking_)"
   ]
  },
  {
   "cell_type": "code",
   "execution_count": 8,
   "id": "fe4e600f",
   "metadata": {},
   "outputs": [
    {
     "name": "stdout",
     "output_type": "stream",
     "text": [
      "[2]\n",
      "№\tIndex\tFeature\n",
      "0\t2\tX5\n"
     ]
    }
   ],
   "source": [
    "# Selected Features\n",
    "selected_columns=[]\n",
    "for i in range(len(X_train[0])):\n",
    "    if selector.support_[i]==1:\n",
    "        selected_columns.append(i)\n",
    "print(selected_columns)\n",
    "print('№\\tIndex\\tFeature')\n",
    "i=0\n",
    "for column in selected_columns:\n",
    "    print(str(i)+'\\t'+str(column)+'\\t'+str(df.columns[column]))\n",
    "    i=i+1"
   ]
  },
  {
   "cell_type": "markdown",
   "id": "1c259964",
   "metadata": {},
   "source": [
    "Одна переменная значима в модели. Однако чтобы имел смысл при построении классификации и кластеризации я отобрала из selector.ranking топ-5 переменных, которые стремятся к значимости по значению p-value. Помимо Х5 - это X10,X3,X6,X14. "
   ]
  },
  {
   "cell_type": "code",
   "execution_count": 9,
   "id": "c701410f",
   "metadata": {},
   "outputs": [],
   "source": [
    "# Leaving only Selected Features\n",
    "X_train_select=X_train[:, selected_columns]\n",
    "X_test_select=X_test[:, selected_columns]"
   ]
  },
  {
   "cell_type": "code",
   "execution_count": 10,
   "id": "f47a3855",
   "metadata": {},
   "outputs": [],
   "source": [
    "# p-value < 1% Features\n",
    "X_train = X_train[:,[True, True, True, False, False, False, True, False, False, True]]\n",
    "X_test = X_test[:,[True, True, True, False, False, False, True, False, False, True]]"
   ]
  },
  {
   "cell_type": "code",
   "execution_count": 11,
   "id": "34e072dd",
   "metadata": {},
   "outputs": [],
   "source": [
    "# Fitting Logistic Regression to the Training set \n",
    "from sklearn.linear_model import LogisticRegression\n",
    "lr = LogisticRegression(random_state = 13).fit(X_train, y_train)"
   ]
  },
  {
   "cell_type": "code",
   "execution_count": 12,
   "id": "4df31a4c",
   "metadata": {},
   "outputs": [
    {
     "data": {
      "text/plain": [
       "0.8571428571428571"
      ]
     },
     "execution_count": 12,
     "metadata": {},
     "output_type": "execute_result"
    }
   ],
   "source": [
    "# Predicting the Test set results\n",
    "y_pred = lr.predict(X_test)\n",
    "lr.score(X_test,y_test)"
   ]
  },
  {
   "cell_type": "markdown",
   "id": "2a5c6212",
   "metadata": {},
   "source": [
    "Высокое качество модели.  86% наблюедний верно распознаны."
   ]
  },
  {
   "cell_type": "code",
   "execution_count": 14,
   "id": "78a6f159",
   "metadata": {},
   "outputs": [
    {
     "name": "stdout",
     "output_type": "stream",
     "text": [
      "[[9 1]\n",
      " [1 3]]\n"
     ]
    }
   ],
   "source": [
    "# Making the Confusion Matrix\n",
    "from sklearn.metrics import confusion_matrix\n",
    "cm = confusion_matrix(y_test, y_pred)\n",
    "print(cm)"
   ]
  },
  {
   "cell_type": "markdown",
   "id": "6434f894",
   "metadata": {},
   "source": [
    "Неверно распознано 2 обьекта."
   ]
  },
  {
   "cell_type": "code",
   "execution_count": 16,
   "id": "907c5a67",
   "metadata": {},
   "outputs": [],
   "source": [
    "import pickle\n",
    "obj = {'X_train': X_train, 'X_test': X_test,'y_train': y_train,'y_test': y_test}\n",
    "output = open('prep.pkl', 'wb')\n",
    "pickle.dump(obj, output, 2)\n",
    "output.close()"
   ]
  }
 ],
 "metadata": {
  "kernelspec": {
   "display_name": "Python 3 (ipykernel)",
   "language": "python",
   "name": "python3"
  },
  "language_info": {
   "codemirror_mode": {
    "name": "ipython",
    "version": 3
   },
   "file_extension": ".py",
   "mimetype": "text/x-python",
   "name": "python",
   "nbconvert_exporter": "python",
   "pygments_lexer": "ipython3",
   "version": "3.8.12"
  }
 },
 "nbformat": 4,
 "nbformat_minor": 5
}
